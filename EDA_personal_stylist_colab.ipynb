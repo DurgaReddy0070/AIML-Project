{
 "cells": [
  {
   "cell_type": "markdown",
   "id": "be9ba0e3",
   "metadata": {},
   "source": [
    "# Exploratory Data Analysis — Personal Stylist Based on Mood & Weather\n",
    "This Colab notebook performs EDA on the provided dataset `alldata.csv`. The notebook structure mirrors your sample notebook (same number of cells)."
   ]
  },
  {
   "cell_type": "code",
   "execution_count": null,
   "id": "0ea0024b",
   "metadata": {},
   "outputs": [],
   "source": [
    "# Import libraries\n",
    "import pandas as pd\n",
    "import numpy as np\n",
    "import matplotlib.pyplot as plt\n",
    "import seaborn as sns\n",
    "%matplotlib inline\n",
    "print('Imported libraries')\n"
   ]
  },
  {
   "cell_type": "code",
   "execution_count": null,
   "id": "9f558afb",
   "metadata": {},
   "outputs": [],
   "source": [
    "# Load dataset with robust encoding fallback\n",
    "from pathlib import Path\n",
    "path = Path('/mnt/data/alldata.csv')\n",
    "encodings = ['utf-8', 'latin1', 'iso-8859-1']\n",
    "for e in encodings:\n",
    "    try:\n",
    "        df = pd.read_csv(path, encoding=e)\n",
    "        print('Loaded with encoding:', e)\n",
    "        break\n",
    "    except Exception as exc:\n",
    "        print('Failed with', e, '->', type(exc).__name__)\n",
    "else:\n",
    "    raise ValueError('Could not read alldata.csv with tried encodings')\n",
    "\n",
    "df.head()\n"
   ]
  },
  {
   "cell_type": "code",
   "execution_count": null,
   "id": "c26c5cfa",
   "metadata": {},
   "outputs": [],
   "source": [
    "# Dataset shape and info\n",
    "print('Shape:', df.shape)\n",
    "df.info()\n"
   ]
  },
  {
   "cell_type": "code",
   "execution_count": null,
   "id": "2e8935e9",
   "metadata": {},
   "outputs": [],
   "source": [
    "# Descriptive statistics for numeric columns\n",
    "df.select_dtypes(include=[np.number]).describe()\n"
   ]
  },
  {
   "cell_type": "code",
   "execution_count": null,
   "id": "6a09858b",
   "metadata": {},
   "outputs": [],
   "source": [
    "# Missing values per column\n",
    "missing = df.isnull().sum().sort_values(ascending=False)\n",
    "missing[missing>0]\n"
   ]
  },
  {
   "cell_type": "code",
   "execution_count": null,
   "id": "cea546ba",
   "metadata": {},
   "outputs": [],
   "source": [
    "# Categorical value counts (first 5 categorical cols)\n",
    "cat_cols = df.select_dtypes(include=['object','category']).columns.tolist()\n",
    "for c in cat_cols[:5]:\n",
    "    print('\\n', c)\n",
    "    print(df[c].value_counts().head(10))\n"
   ]
  },
  {
   "cell_type": "code",
   "execution_count": null,
   "id": "8e65b0bd",
   "metadata": {},
   "outputs": [],
   "source": [
    "# Parse date columns if present\n",
    "date_cols = [c for c in df.columns if 'date' in c.lower()]\n",
    "if date_cols:\n",
    "    for c in date_cols:\n",
    "        df[c] = pd.to_datetime(df[c], errors='coerce')\n",
    "    print('Parsed dates:', date_cols)\n",
    "else:\n",
    "    print('No date columns detected')\n"
   ]
  },
  {
   "cell_type": "code",
   "execution_count": null,
   "id": "99950de1",
   "metadata": {},
   "outputs": [],
   "source": [
    "# Create derived features (month, dayofweek) if date exists\n",
    "if date_cols:\n",
    "    df['month'] = df[date_cols[0]].dt.month\n",
    "    df['dayofweek'] = df[date_cols[0]].dt.dayofweek\n",
    "    display(df[['month','dayofweek']].head())\n",
    "else:\n",
    "    print('Skipping date-derived features')\n"
   ]
  },
  {
   "cell_type": "code",
   "execution_count": null,
   "id": "03529643",
   "metadata": {},
   "outputs": [],
   "source": [
    "# Plot distributions of first 4 numeric columns\n",
    "num_cols = df.select_dtypes(include=[np.number]).columns.tolist()\n",
    "for c in num_cols[:4]:\n",
    "    plt.figure(figsize=(6,3))\n",
    "    sns.histplot(df[c].dropna(), kde=True)\n",
    "    plt.title(f'Distribution of {c}')\n",
    "    plt.show()\n"
   ]
  },
  {
   "cell_type": "code",
   "execution_count": null,
   "id": "651cd094",
   "metadata": {},
   "outputs": [],
   "source": [
    "# Boxplots for first 4 numeric columns\n",
    "for c in num_cols[:4]:\n",
    "    plt.figure(figsize=(6,2))\n",
    "    sns.boxplot(x=df[c].dropna())\n",
    "    plt.title(f'Boxplot of {c}')\n",
    "    plt.show()\n"
   ]
  },
  {
   "cell_type": "code",
   "execution_count": null,
   "id": "2afce637",
   "metadata": {},
   "outputs": [],
   "source": [
    "# Correlation heatmap for numeric features\n",
    "if len(num_cols) > 1:\n",
    "    plt.figure(figsize=(8,6))\n",
    "    sns.heatmap(df[num_cols].corr(), annot=True, fmt='.2f', cmap='coolwarm')\n",
    "    plt.title('Correlation Matrix')\n",
    "    plt.show()\n",
    "else:\n",
    "    print('Not enough numeric cols for correlation')\n"
   ]
  },
  {
   "cell_type": "code",
   "execution_count": null,
   "id": "fdbc537f",
   "metadata": {},
   "outputs": [],
   "source": [
    "# Mood vs Temperature (if columns exist)\n",
    "mood_col = [c for c in df.columns if 'mood'==c.lower()]\n",
    "temp_col = [c for c in df.columns if 'temp' in c.lower()]\n",
    "if mood_col and temp_col:\n",
    "    plt.figure(figsize=(8,4))\n",
    "    sns.boxplot(x=mood_col[0], y=temp_col[0], data=df)\n",
    "    plt.title('Temperature by Mood')\n",
    "    plt.show()\n",
    "else:\n",
    "    print('Mood-temp plot skipped')\n"
   ]
  },
  {
   "cell_type": "code",
   "execution_count": null,
   "id": "5850deff",
   "metadata": {},
   "outputs": [],
   "source": [
    "# Recommendations frequency (if present)\n",
    "rec_cols = [c for c in df.columns if 'recommend' in c.lower() or 'top' in c.lower() or 'footwear' in c.lower()]\n",
    "if rec_cols:\n",
    "    for c in rec_cols[:3]:\n",
    "        print('\\nTop values for', c)\n",
    "        display(df[c].value_counts().head(10))\n",
    "else:\n",
    "    print('No recommendation-like columns')\n"
   ]
  },
  {
   "cell_type": "code",
   "execution_count": null,
   "id": "382e2925",
   "metadata": {},
   "outputs": [],
   "source": [
    "# Grouped analysis: mean rating by weather/mood\n",
    "if 'rating' in df.columns:\n",
    "    grp = ['weather' if 'weather' in df.columns else None, 'mood' if 'mood' in df.columns else None]\n",
    "    grp = [g for g in grp if g]\n",
    "    if grp:\n",
    "        display(df.groupby(grp)['rating'].mean().reset_index().head(10))\n",
    "    else:\n",
    "        print('No grouping columns present')\n",
    "else:\n",
    "    print('No rating column')\n"
   ]
  },
  {
   "cell_type": "code",
   "execution_count": null,
   "id": "8c30686c",
   "metadata": {},
   "outputs": [],
   "source": [
    "# Simple imputation: numeric->median, categorical->Unknown\n",
    "for c in df.select_dtypes(include=[np.number]).columns:\n",
    "    df[c] = df[c].fillna(df[c].median())\n",
    "for c in df.select_dtypes(include=['object','category']).columns:\n",
    "    df[c] = df[c].fillna('Unknown')\n",
    "print('Imputation done')\n"
   ]
  },
  {
   "cell_type": "code",
   "execution_count": null,
   "id": "85d3acee",
   "metadata": {},
   "outputs": [],
   "source": [
    "# Weather distribution pie chart (if weather exists)\n",
    "if 'weather' in df.columns:\n",
    "    plt.figure(figsize=(6,6))\n",
    "    df['weather'].value_counts().plot.pie(autopct='%1.1f%%')\n",
    "    plt.title('Weather Distribution')\n",
    "    plt.ylabel('')\n",
    "    plt.show()\n",
    "else:\n",
    "    print('No weather column')\n"
   ]
  },
  {
   "cell_type": "code",
   "execution_count": null,
   "id": "8c3ab94f",
   "metadata": {},
   "outputs": [],
   "source": [
    "# Save cleaned dataset\n",
    "out_path = '/mnt/data/alldata_cleaned_for_eda.csv'\n",
    "df.to_csv(out_path, index=False)\n",
    "print('Cleaned data saved to', out_path)\n"
   ]
  },
  {
   "cell_type": "markdown",
   "id": "1fb66bed",
   "metadata": {},
   "source": [
    "---\n",
    "**Notes:** This notebook runs a basic exploratory analysis: data info, missing values, distributions, correlations, and grouped summaries. Next steps: feature engineering and predictive modeling.\n"
   ]
  },
  {
   "cell_type": "markdown",
   "id": "7d4ec21e",
   "metadata": {},
   "source": [
    "# Exploratory Data Analysis — Personal Stylist Based on Mood & Weather\n",
    "This Colab notebook performs EDA on the provided dataset `alldata.csv`. The notebook structure mirrors your sample notebook (same number of cells)."
   ]
  },
  {
   "cell_type": "code",
   "execution_count": null,
   "id": "855d0b13",
   "metadata": {},
   "outputs": [],
   "source": [
    "# Import libraries\n",
    "import pandas as pd\n",
    "import numpy as np\n",
    "import matplotlib.pyplot as plt\n",
    "import seaborn as sns\n",
    "%matplotlib inline\n",
    "print('Imported libraries')\n"
   ]
  },
  {
   "cell_type": "code",
   "execution_count": null,
   "id": "590b8b8b",
   "metadata": {},
   "outputs": [],
   "source": [
    "# Load dataset\n",
    "path = '/mnt/data/alldata.csv'\n",
    "df = pd.read_csv(path)\n",
    "df.head()\n"
   ]
  },
  {
   "cell_type": "code",
   "execution_count": null,
   "id": "c2a5ab9b",
   "metadata": {},
   "outputs": [],
   "source": [
    "# Dataset shape and info\n",
    "print('Shape:', df.shape)\n",
    "df.info()\n"
   ]
  },
  {
   "cell_type": "code",
   "execution_count": null,
   "id": "df009c27",
   "metadata": {},
   "outputs": [],
   "source": [
    "# Descriptive statistics for numeric columns\n",
    "df.select_dtypes(include=[np.number]).describe()\n"
   ]
  },
  {
   "cell_type": "code",
   "execution_count": null,
   "id": "0e7f6d40",
   "metadata": {},
   "outputs": [],
   "source": [
    "# Missing values per column\n",
    "missing = df.isnull().sum().sort_values(ascending=False)\n",
    "missing[missing>0]\n"
   ]
  },
  {
   "cell_type": "code",
   "execution_count": null,
   "id": "3d48fa2b",
   "metadata": {},
   "outputs": [],
   "source": [
    "# Categorical value counts (first 5 categorical cols)\n",
    "cat_cols = df.select_dtypes(include=['object','category']).columns.tolist()\n",
    "for c in cat_cols[:5]:\n",
    "    print('\\n', c)\n",
    "    print(df[c].value_counts().head(10))\n"
   ]
  },
  {
   "cell_type": "code",
   "execution_count": null,
   "id": "0d7d3844",
   "metadata": {},
   "outputs": [],
   "source": [
    "# Parse date columns if present\n",
    "date_cols = [c for c in df.columns if 'date' in c.lower()]\n",
    "if date_cols:\n",
    "    for c in date_cols:\n",
    "        df[c] = pd.to_datetime(df[c], errors='coerce')\n",
    "    print('Parsed dates:', date_cols)\n",
    "else:\n",
    "    print('No date columns detected')\n"
   ]
  },
  {
   "cell_type": "code",
   "execution_count": null,
   "id": "c4babb73",
   "metadata": {},
   "outputs": [],
   "source": [
    "# Create derived features (month, dayofweek) if date exists\n",
    "if date_cols:\n",
    "    df['month'] = df[date_cols[0]].dt.month\n",
    "    df['dayofweek'] = df[date_cols[0]].dt.dayofweek\n",
    "    display(df[['month','dayofweek']].head())\n",
    "else:\n",
    "    print('Skipping date-derived features')\n"
   ]
  },
  {
   "cell_type": "code",
   "execution_count": null,
   "id": "92bfa39a",
   "metadata": {},
   "outputs": [],
   "source": [
    "# Plot distributions of first 4 numeric columns\n",
    "num_cols = df.select_dtypes(include=[np.number]).columns.tolist()\n",
    "for c in num_cols[:4]:\n",
    "    plt.figure(figsize=(6,3))\n",
    "    sns.histplot(df[c].dropna(), kde=True)\n",
    "    plt.title(f'Distribution of {c}')\n",
    "    plt.show()\n"
   ]
  },
  {
   "cell_type": "code",
   "execution_count": null,
   "id": "5cefcfca",
   "metadata": {},
   "outputs": [],
   "source": [
    "# Boxplots for first 4 numeric columns\n",
    "for c in num_cols[:4]:\n",
    "    plt.figure(figsize=(6,2))\n",
    "    sns.boxplot(x=df[c].dropna())\n",
    "    plt.title(f'Boxplot of {c}')\n",
    "    plt.show()\n"
   ]
  },
  {
   "cell_type": "code",
   "execution_count": null,
   "id": "f827af6f",
   "metadata": {},
   "outputs": [],
   "source": [
    "# Correlation heatmap for numeric features\n",
    "if len(num_cols) > 1:\n",
    "    plt.figure(figsize=(8,6))\n",
    "    sns.heatmap(df[num_cols].corr(), annot=True, fmt='.2f', cmap='coolwarm')\n",
    "    plt.title('Correlation Matrix')\n",
    "    plt.show()\n",
    "else:\n",
    "    print('Not enough numeric cols for correlation')\n"
   ]
  },
  {
   "cell_type": "code",
   "execution_count": null,
   "id": "aca254a5",
   "metadata": {},
   "outputs": [],
   "source": [
    "# Mood vs Temperature (if columns exist)\n",
    "mood_col = [c for c in df.columns if 'mood'==c.lower()]\n",
    "temp_col = [c for c in df.columns if 'temp' in c.lower()]\n",
    "if mood_col and temp_col:\n",
    "    plt.figure(figsize=(8,4))\n",
    "    sns.boxplot(x=mood_col[0], y=temp_col[0], data=df)\n",
    "    plt.title('Temperature by Mood')\n",
    "    plt.show()\n",
    "else:\n",
    "    print('Mood-temp plot skipped')\n"
   ]
  },
  {
   "cell_type": "code",
   "execution_count": null,
   "id": "25dffd32",
   "metadata": {},
   "outputs": [],
   "source": [
    "# Recommendations frequency (if present)\n",
    "rec_cols = [c for c in df.columns if 'recommend' in c.lower() or 'top' in c.lower() or 'footwear' in c.lower()]\n",
    "if rec_cols:\n",
    "    for c in rec_cols[:3]:\n",
    "        print('\\nTop values for', c)\n",
    "        display(df[c].value_counts().head(10))\n",
    "else:\n",
    "    print('No recommendation-like columns')\n"
   ]
  },
  {
   "cell_type": "code",
   "execution_count": null,
   "id": "6a7c2143",
   "metadata": {},
   "outputs": [],
   "source": [
    "# Grouped analysis: mean rating by weather/mood\n",
    "if 'rating' in df.columns:\n",
    "    grp = ['weather' if 'weather' in df.columns else None, 'mood' if 'mood' in df.columns else None]\n",
    "    grp = [g for g in grp if g]\n",
    "    if grp:\n",
    "        display(df.groupby(grp)['rating'].mean().reset_index().head(10))\n",
    "    else:\n",
    "        print('No grouping columns present')\n",
    "else:\n",
    "    print('No rating column')\n"
   ]
  },
  {
   "cell_type": "code",
   "execution_count": null,
   "id": "401443c8",
   "metadata": {},
   "outputs": [],
   "source": [
    "# Simple imputation: numeric->median, categorical->Unknown\n",
    "for c in df.select_dtypes(include=[np.number]).columns:\n",
    "    df[c] = df[c].fillna(df[c].median())\n",
    "for c in df.select_dtypes(include=['object','category']).columns:\n",
    "    df[c] = df[c].fillna('Unknown')\n",
    "print('Imputation done')\n"
   ]
  },
  {
   "cell_type": "code",
   "execution_count": null,
   "id": "0d25f5b2",
   "metadata": {},
   "outputs": [],
   "source": [
    "# Weather distribution pie chart (if weather exists)\n",
    "if 'weather' in df.columns:\n",
    "    plt.figure(figsize=(6,6))\n",
    "    df['weather'].value_counts().plot.pie(autopct='%1.1f%%')\n",
    "    plt.title('Weather Distribution')\n",
    "    plt.ylabel('')\n",
    "    plt.show()\n",
    "else:\n",
    "    print('No weather column')\n"
   ]
  },
  {
   "cell_type": "code",
   "execution_count": null,
   "id": "3ef0ed0d",
   "metadata": {},
   "outputs": [],
   "source": [
    "# Save cleaned dataset\n",
    "out_path = '/mnt/data/alldata_cleaned_for_eda.csv'\n",
    "df.to_csv(out_path, index=False)\n",
    "print('Cleaned data saved to', out_path)\n"
   ]
  },
  {
   "cell_type": "markdown",
   "id": "d5905881",
   "metadata": {},
   "source": [
    "---\n",
    "**Notes:** This notebook runs a basic exploratory analysis: data info, missing values, distributions, correlations, and grouped summaries. Next steps: feature engineering and predictive modeling.\n"
   ]
  },
  {
   "cell_type": "markdown",
   "id": "f2b39902",
   "metadata": {},
   "source": [
    "# Exploratory Data Analysis — Personal Stylist Based on Mood & Weather\n",
    "This Colab notebook performs EDA on the provided dataset `alldata.csv`. The notebook structure mirrors your sample notebook (same number of cells)."
   ]
  },
  {
   "cell_type": "code",
   "execution_count": null,
   "id": "4703b920",
   "metadata": {},
   "outputs": [],
   "source": [
    "# Import libraries\n",
    "import pandas as pd\n",
    "import numpy as np\n",
    "import matplotlib.pyplot as plt\n",
    "import seaborn as sns\n",
    "%matplotlib inline\n",
    "print('Imported libraries')\n"
   ]
  },
  {
   "cell_type": "code",
   "execution_count": null,
   "id": "c2697042",
   "metadata": {},
   "outputs": [],
   "source": [
    "# Load dataset\n",
    "path = '/mnt/data/alldata.csv'\n",
    "df = pd.read_csv(path)\n",
    "df.head()\n"
   ]
  },
  {
   "cell_type": "code",
   "execution_count": null,
   "id": "f6d3e257",
   "metadata": {},
   "outputs": [],
   "source": [
    "# Dataset shape and info\n",
    "print('Shape:', df.shape)\n",
    "df.info()\n"
   ]
  },
  {
   "cell_type": "code",
   "execution_count": null,
   "id": "07e87c26",
   "metadata": {},
   "outputs": [],
   "source": [
    "# Descriptive statistics for numeric columns\n",
    "df.select_dtypes(include=[np.number]).describe()\n"
   ]
  },
  {
   "cell_type": "code",
   "execution_count": null,
   "id": "c08081f0",
   "metadata": {},
   "outputs": [],
   "source": [
    "# Missing values per column\n",
    "missing = df.isnull().sum().sort_values(ascending=False)\n",
    "missing[missing>0]\n"
   ]
  },
  {
   "cell_type": "code",
   "execution_count": null,
   "id": "95cf696d",
   "metadata": {},
   "outputs": [],
   "source": [
    "# Categorical value counts (first 5 categorical cols)\n",
    "cat_cols = df.select_dtypes(include=['object','category']).columns.tolist()\n",
    "for c in cat_cols[:5]:\n",
    "    print('\\n', c)\n",
    "    print(df[c].value_counts().head(10))\n"
   ]
  },
  {
   "cell_type": "code",
   "execution_count": null,
   "id": "f6612c9c",
   "metadata": {},
   "outputs": [],
   "source": [
    "# Parse date columns if present\n",
    "date_cols = [c for c in df.columns if 'date' in c.lower()]\n",
    "if date_cols:\n",
    "    for c in date_cols:\n",
    "        df[c] = pd.to_datetime(df[c], errors='coerce')\n",
    "    print('Parsed dates:', date_cols)\n",
    "else:\n",
    "    print('No date columns detected')\n"
   ]
  },
  {
   "cell_type": "code",
   "execution_count": null,
   "id": "152e28d0",
   "metadata": {},
   "outputs": [],
   "source": [
    "# Create derived features (month, dayofweek) if date exists\n",
    "if date_cols:\n",
    "    df['month'] = df[date_cols[0]].dt.month\n",
    "    df['dayofweek'] = df[date_cols[0]].dt.dayofweek\n",
    "    display(df[['month','dayofweek']].head())\n",
    "else:\n",
    "    print('Skipping date-derived features')\n"
   ]
  },
  {
   "cell_type": "code",
   "execution_count": null,
   "id": "8b9fa364",
   "metadata": {},
   "outputs": [],
   "source": [
    "# Plot distributions of first 4 numeric columns\n",
    "num_cols = df.select_dtypes(include=[np.number]).columns.tolist()\n",
    "for c in num_cols[:4]:\n",
    "    plt.figure(figsize=(6,3))\n",
    "    sns.histplot(df[c].dropna(), kde=True)\n",
    "    plt.title(f'Distribution of {c}')\n",
    "    plt.show()\n"
   ]
  },
  {
   "cell_type": "code",
   "execution_count": null,
   "id": "44b43e73",
   "metadata": {},
   "outputs": [],
   "source": [
    "# Boxplots for first 4 numeric columns\n",
    "for c in num_cols[:4]:\n",
    "    plt.figure(figsize=(6,2))\n",
    "    sns.boxplot(x=df[c].dropna())\n",
    "    plt.title(f'Boxplot of {c}')\n",
    "    plt.show()\n"
   ]
  },
  {
   "cell_type": "code",
   "execution_count": null,
   "id": "58047e6f",
   "metadata": {},
   "outputs": [],
   "source": [
    "# Correlation heatmap for numeric features\n",
    "if len(num_cols) > 1:\n",
    "    plt.figure(figsize=(8,6))\n",
    "    sns.heatmap(df[num_cols].corr(), annot=True, fmt='.2f', cmap='coolwarm')\n",
    "    plt.title('Correlation Matrix')\n",
    "    plt.show()\n",
    "else:\n",
    "    print('Not enough numeric cols for correlation')\n"
   ]
  },
  {
   "cell_type": "code",
   "execution_count": null,
   "id": "f1cd83ee",
   "metadata": {},
   "outputs": [],
   "source": [
    "# Mood vs Temperature (if columns exist)\n",
    "mood_col = [c for c in df.columns if 'mood'==c.lower()]\n",
    "temp_col = [c for c in df.columns if 'temp' in c.lower()]\n",
    "if mood_col and temp_col:\n",
    "    plt.figure(figsize=(8,4))\n",
    "    sns.boxplot(x=mood_col[0], y=temp_col[0], data=df)\n",
    "    plt.title('Temperature by Mood')\n",
    "    plt.show()\n",
    "else:\n",
    "    print('Mood-temp plot skipped')\n"
   ]
  },
  {
   "cell_type": "code",
   "execution_count": null,
   "id": "9612c906",
   "metadata": {},
   "outputs": [],
   "source": [
    "# Recommendations frequency (if present)\n",
    "rec_cols = [c for c in df.columns if 'recommend' in c.lower() or 'top' in c.lower() or 'footwear' in c.lower()]\n",
    "if rec_cols:\n",
    "    for c in rec_cols[:3]:\n",
    "        print('\\nTop values for', c)\n",
    "        display(df[c].value_counts().head(10))\n",
    "else:\n",
    "    print('No recommendation-like columns')\n"
   ]
  }
 ],
 "metadata": {
  "kernelspec": {
   "display_name": "Python 3",
   "name": "python3"
  },
  "modified": true
 },
 "nbformat": 4,
 "nbformat_minor": 5
}
